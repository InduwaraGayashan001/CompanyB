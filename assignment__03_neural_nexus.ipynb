{
  "cells": [
    {
      "cell_type": "markdown",
      "metadata": {
        "id": "view-in-github",
        "colab_type": "text"
      },
      "source": [
        "<a href=\"https://colab.research.google.com/github/InduwaraGayashan001/CompanyB/blob/main/assignment__03_neural_nexus.ipynb\" target=\"_parent\"><img src=\"https://colab.research.google.com/assets/colab-badge.svg\" alt=\"Open In Colab\"/></a>"
      ]
    },
    {
      "cell_type": "markdown",
      "source": [
        "#EN3150 Assignment 03: Simple convolutional neural network to perform classification"
      ],
      "metadata": {
        "id": "GAV_p1eozxkH"
      }
    },
    {
      "cell_type": "markdown",
      "source": [
        "##1 CNN for image classification"
      ],
      "metadata": {
        "id": "N_uVvJ4pz4JM"
      }
    },
    {
      "cell_type": "code",
      "source": [],
      "metadata": {
        "id": "9MufYA_2z3H5"
      },
      "execution_count": null,
      "outputs": []
    }
  ],
  "metadata": {
    "language_info": {
      "name": "python"
    },
    "colab": {
      "provenance": [],
      "include_colab_link": true
    }
  },
  "nbformat": 4,
  "nbformat_minor": 0
}